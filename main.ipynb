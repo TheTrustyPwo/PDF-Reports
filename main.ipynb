{
 "cells": [
  {
   "cell_type": "code",
   "execution_count": 134,
   "id": "initial_id",
   "metadata": {
    "collapsed": true,
    "ExecuteTime": {
     "end_time": "2024-08-28T12:50:39.025174Z",
     "start_time": "2024-08-28T12:50:39.014152Z"
    }
   },
   "outputs": [],
   "source": [
    "import numpy as np\n",
    "import pandas as pd\n",
    "import matplotlib.pyplot as plt\n",
    "from reportlab.lib.pagesizes import A4\n",
    "from reportlab.lib import colors\n",
    "from reportlab.lib.styles import getSampleStyleSheet, ParagraphStyle\n",
    "from reportlab.lib.units import inch\n",
    "from reportlab.platypus import SimpleDocTemplate, Paragraph, Table, TableStyle, Spacer, Image, PageBreak"
   ]
  },
  {
   "cell_type": "code",
   "outputs": [],
   "source": [
    "df = pd.read_excel('data.xlsx', header=1)\n",
    "df['Quiz Perf.'] = df['Quiz Perf.'].apply(lambda x: round(float(str(x).strip('%')) * 100, 2))"
   ],
   "metadata": {
    "collapsed": false,
    "ExecuteTime": {
     "end_time": "2024-08-28T10:01:36.303965Z",
     "start_time": "2024-08-28T10:01:36.286427Z"
    }
   },
   "id": "875b6b49a0dbb0c7",
   "execution_count": 36
  },
  {
   "cell_type": "code",
   "outputs": [
    {
     "name": "stdout",
     "output_type": "stream",
     "text": [
      "Index(['Uncertainties', 'Units', 'Change in velocity', '1D Motion',\n",
      "       '2D Motion', 'Momentum', 'N Laws', 'Equilibrium', 'Work Done',\n",
      "       'Basics of CM', 'Horizontal CM', 'Orbital Motion',\n",
      "       'Gravitational Potential', 'G-Field strength', 'SHM'],\n",
      "      dtype='object')\n"
     ]
    },
    {
     "data": {
      "text/plain": "  Unnamed: 0  Quiz submission  Quiz Perf.  Attempted qns Uncertainties  Units  \\\n0  Student#1         1.000000       70.11            174           7/9   4/10   \n1  Student#2         1.000000       78.74            174           8/9  10/10   \n2  Student#3         0.551724       66.67             96           6/7    6/6   \n3  Student#4         0.540230       71.28             94           3/6    6/7   \n4  Student#5         0.810345       48.94            141           5/8    8/9   \n\n  Change in velocity 1D Motion 2D Motion Momentum N Laws Equilibrium  \\\n0                3/5     15/18      8/11    17/22    4/8       11/11   \n1                3/5     16/18      8/11    18/22    8/8        7/11   \n2                3/4      8/12       4/8     6/11    2/3         5/5   \n3                3/3      4/11       5/6     9/13    6/6         6/8   \n4                0/5      6/16      6/11     7/19    1/8         7/9   \n\n  Work Done Basics of CM Horizontal CM Orbital Motion Gravitational Potential  \\\n0       6/8          5/6           3/4           5/10                     2/3   \n1       6/8          6/6           4/4           7/10                     1/3   \n2       2/3          0/2           2/3            4/6                     0/1   \n3       4/7          3/3           0/0            1/2                     0/1   \n4       2/7          3/5           1/1            4/5                     1/3   \n\n  G-Field strength   SHM  \n0              6/6  6/12  \n1              5/6  6/12  \n2              1/2   4/7  \n3              1/2   2/3  \n4              3/5   3/8  ",
      "text/html": "<div>\n<style scoped>\n    .dataframe tbody tr th:only-of-type {\n        vertical-align: middle;\n    }\n\n    .dataframe tbody tr th {\n        vertical-align: top;\n    }\n\n    .dataframe thead th {\n        text-align: right;\n    }\n</style>\n<table border=\"1\" class=\"dataframe\">\n  <thead>\n    <tr style=\"text-align: right;\">\n      <th></th>\n      <th>Unnamed: 0</th>\n      <th>Quiz submission</th>\n      <th>Quiz Perf.</th>\n      <th>Attempted qns</th>\n      <th>Uncertainties</th>\n      <th>Units</th>\n      <th>Change in velocity</th>\n      <th>1D Motion</th>\n      <th>2D Motion</th>\n      <th>Momentum</th>\n      <th>N Laws</th>\n      <th>Equilibrium</th>\n      <th>Work Done</th>\n      <th>Basics of CM</th>\n      <th>Horizontal CM</th>\n      <th>Orbital Motion</th>\n      <th>Gravitational Potential</th>\n      <th>G-Field strength</th>\n      <th>SHM</th>\n    </tr>\n  </thead>\n  <tbody>\n    <tr>\n      <th>0</th>\n      <td>Student#1</td>\n      <td>1.000000</td>\n      <td>70.11</td>\n      <td>174</td>\n      <td>7/9</td>\n      <td>4/10</td>\n      <td>3/5</td>\n      <td>15/18</td>\n      <td>8/11</td>\n      <td>17/22</td>\n      <td>4/8</td>\n      <td>11/11</td>\n      <td>6/8</td>\n      <td>5/6</td>\n      <td>3/4</td>\n      <td>5/10</td>\n      <td>2/3</td>\n      <td>6/6</td>\n      <td>6/12</td>\n    </tr>\n    <tr>\n      <th>1</th>\n      <td>Student#2</td>\n      <td>1.000000</td>\n      <td>78.74</td>\n      <td>174</td>\n      <td>8/9</td>\n      <td>10/10</td>\n      <td>3/5</td>\n      <td>16/18</td>\n      <td>8/11</td>\n      <td>18/22</td>\n      <td>8/8</td>\n      <td>7/11</td>\n      <td>6/8</td>\n      <td>6/6</td>\n      <td>4/4</td>\n      <td>7/10</td>\n      <td>1/3</td>\n      <td>5/6</td>\n      <td>6/12</td>\n    </tr>\n    <tr>\n      <th>2</th>\n      <td>Student#3</td>\n      <td>0.551724</td>\n      <td>66.67</td>\n      <td>96</td>\n      <td>6/7</td>\n      <td>6/6</td>\n      <td>3/4</td>\n      <td>8/12</td>\n      <td>4/8</td>\n      <td>6/11</td>\n      <td>2/3</td>\n      <td>5/5</td>\n      <td>2/3</td>\n      <td>0/2</td>\n      <td>2/3</td>\n      <td>4/6</td>\n      <td>0/1</td>\n      <td>1/2</td>\n      <td>4/7</td>\n    </tr>\n    <tr>\n      <th>3</th>\n      <td>Student#4</td>\n      <td>0.540230</td>\n      <td>71.28</td>\n      <td>94</td>\n      <td>3/6</td>\n      <td>6/7</td>\n      <td>3/3</td>\n      <td>4/11</td>\n      <td>5/6</td>\n      <td>9/13</td>\n      <td>6/6</td>\n      <td>6/8</td>\n      <td>4/7</td>\n      <td>3/3</td>\n      <td>0/0</td>\n      <td>1/2</td>\n      <td>0/1</td>\n      <td>1/2</td>\n      <td>2/3</td>\n    </tr>\n    <tr>\n      <th>4</th>\n      <td>Student#5</td>\n      <td>0.810345</td>\n      <td>48.94</td>\n      <td>141</td>\n      <td>5/8</td>\n      <td>8/9</td>\n      <td>0/5</td>\n      <td>6/16</td>\n      <td>6/11</td>\n      <td>7/19</td>\n      <td>1/8</td>\n      <td>7/9</td>\n      <td>2/7</td>\n      <td>3/5</td>\n      <td>1/1</td>\n      <td>4/5</td>\n      <td>1/3</td>\n      <td>3/5</td>\n      <td>3/8</td>\n    </tr>\n  </tbody>\n</table>\n</div>"
     },
     "execution_count": 64,
     "metadata": {},
     "output_type": "execute_result"
    }
   ],
   "source": [
    "topics = df.columns[4:]\n",
    "print(topics)\n",
    "df.head()"
   ],
   "metadata": {
    "collapsed": false,
    "ExecuteTime": {
     "end_time": "2024-08-28T10:31:36.229662Z",
     "start_time": "2024-08-28T10:31:36.218130Z"
    }
   },
   "id": "7561690425e9a523",
   "execution_count": 64
  },
  {
   "cell_type": "code",
   "outputs": [],
   "source": [
    "def create_radar_chart(student_data, student_name):\n",
    "    scores = [student_data[topic] for topic in topics]\n",
    "    percentages = [int(s.split('/')[0]) / int(s.split('/')[1])\n",
    "                   if int(s.split('/')[1]) != 0 else 0 for s in scores]\n",
    "\n",
    "    angles = np.linspace(0, 2 * np.pi, len(topics), endpoint=False).tolist()\n",
    "    percentages += percentages[:1]\n",
    "    angles += angles[:1]\n",
    "\n",
    "    fig, ax = plt.subplots(figsize=(6, 6), subplot_kw=dict(polar=True))\n",
    "    ax.fill(angles, percentages, color='blue', alpha=0.25)\n",
    "    ax.plot(angles, percentages, color='blue', linewidth=2)\n",
    "\n",
    "    ax.set_yticklabels([])\n",
    "    ax.set_xticks(angles[:-1])\n",
    "    ax.set_xticklabels(topics, fontsize=10)\n",
    "\n",
    "    chart_file = f\"{student_name}_radar_chart.png\"\n",
    "    plt.savefig(chart_file)\n",
    "    plt.close()\n",
    "\n",
    "    return chart_file"
   ],
   "metadata": {
    "collapsed": false,
    "ExecuteTime": {
     "end_time": "2024-08-28T12:56:07.303345Z",
     "start_time": "2024-08-28T12:56:07.284323Z"
    }
   },
   "id": "7403d235f91251e7",
   "execution_count": 151
  },
  {
   "cell_type": "code",
   "outputs": [],
   "source": [
    "def generate_feedback(student_data):\n",
    "    feedback = []\n",
    "    topics_to_improve = []\n",
    "    topics_to_praise = []\n",
    "    \n",
    "    for topic in topics:\n",
    "        score = student_data[topic].split('/')[0]\n",
    "        try:\n",
    "            score_percentage = int(score) / int(student_data[topic].split('/')[1]) * 100\n",
    "        except ZeroDivisionError:\n",
    "            score_percentage = 0\n",
    "\n",
    "        if score_percentage < 50:\n",
    "            topics_to_improve.append(topic)\n",
    "        elif score_percentage > 80:\n",
    "            topics_to_praise.append(topic)\n",
    "    \n",
    "    if topics_to_improve:\n",
    "        feedback.append(f\"You should improve on the following topics: {', '.join(topics_to_improve)}.\")\n",
    "    if topics_to_praise:\n",
    "        feedback.append(f\"Good job on the following topics: {', '.join(topics_to_praise)}.\")\n",
    "    \n",
    "    if not topics_to_improve and not topics_to_praise:\n",
    "        feedback.append(\"Your performance is consistent across all topics. Keep up the good work!\")\n",
    "    \n",
    "    return \"<br/>\".join(feedback)"
   ],
   "metadata": {
    "collapsed": false,
    "ExecuteTime": {
     "end_time": "2024-08-28T12:56:07.633660Z",
     "start_time": "2024-08-28T12:56:07.624643Z"
    }
   },
   "id": "b2691121bc34975e",
   "execution_count": 152
  },
  {
   "cell_type": "code",
   "outputs": [],
   "source": [
    "def generate_pdf_report(student_data, student_name):\n",
    "    file_name = f'{student_name}_Physics_Quiz_Report.pdf'\n",
    "    document = SimpleDocTemplate(file_name, pagesize=A4, rightMargin=30, leftMargin=30, topMargin=30, bottomMargin=18)\n",
    "    styles = getSampleStyleSheet()\n",
    "\n",
    "    title_style = ParagraphStyle(name=\"TitleStyle\", fontSize=18, spaceAfter=20)\n",
    "    title = Paragraph(f\"Physics Quiz Report: {student_name}\", title_style)\n",
    "\n",
    "    general_info_data = [\n",
    "        ['Quiz Performance', f\"{student_data['Quiz Perf.']}%\"],\n",
    "        ['Attempted Questions', f\"{student_data['Attempted qns']}\"]\n",
    "    ]\n",
    "\n",
    "    general_info_table = Table(general_info_data, colWidths=[2.5*inch, 2.5*inch], hAlign='LEFT')\n",
    "    general_info_table.setStyle(TableStyle([\n",
    "        ('BACKGROUND', (0, 0), (-1, 0), colors.lightgrey),\n",
    "        ('TEXTCOLOR', (0, 0), (-1, 0), colors.black),\n",
    "        ('ALIGN', (0, 0), (-1, -1), 'LEFT'),\n",
    "        ('FONTNAME', (0, 0), (-1, 0), 'Helvetica-Bold'),\n",
    "        ('BOTTOMPADDING', (0, 0), (-1, 0), 12),\n",
    "        ('BACKGROUND', (0, 1), (-1, -1), colors.lightblue),\n",
    "        ('GRID', (0, 0), (-1, -1), 0.5, colors.black),\n",
    "        ('TEXTCOLOR', (0, 1), (-1, -1), colors.black),\n",
    "        ('FONTNAME', (0, 1), (-1, -1), 'Helvetica'),\n",
    "        ('FONTSIZE', (0, 1), (-1, -1), 10),\n",
    "    ]))\n",
    "\n",
    "    data = [['Topic', 'Score']] + [[topic, f\"{student_data[topic]}\"] for topic in topics]\n",
    "    \n",
    "    scores_table = Table(data, colWidths=[2.5*inch, 2.5*inch], hAlign='LEFT')\n",
    "    scores_table.setStyle(TableStyle([\n",
    "        ('BACKGROUND', (0, 0), (-1, 0), colors.lightgrey),\n",
    "        ('TEXTCOLOR', (0, 0), (-1, 0), colors.black),\n",
    "        ('ALIGN', (0, 0), (-1, -1), 'LEFT'),\n",
    "        ('FONTNAME', (0, 0), (-1, 0), 'Helvetica-Bold'),\n",
    "        ('BOTTOMPADDING', (0, 0), (-1, 0), 12),\n",
    "        ('BACKGROUND', (0, 1), (-1, -1), colors.beige),\n",
    "        ('GRID', (0, 0), (-1, -1), 0.5, colors.black),\n",
    "        ('TEXTCOLOR', (0, 1), (-1, -1), colors.black),\n",
    "        ('FONTNAME', (0, 1), (-1, -1), 'Helvetica'),\n",
    "        ('FONTSIZE', (0, 1), (-1, -1), 10),\n",
    "    ]))\n",
    "     \n",
    "    feedback_text = generate_feedback(student_data)\n",
    "    \n",
    "    radar_chart_file = create_radar_chart(student_data, student_name)\n",
    "    radar_chart_img = Image(radar_chart_file, 4.5*inch, 4.5*inch)\n",
    "    \n",
    "    elements = [\n",
    "        title,\n",
    "        Spacer(1, 12),\n",
    "        general_info_table,\n",
    "        Spacer(1, 12),\n",
    "        Paragraph('Detailed Topic Scores', styles['Heading2']),\n",
    "        scores_table,\n",
    "        Spacer(1, 12),\n",
    "        Paragraph('Qualitative Feedback', styles['Heading2']),\n",
    "        Paragraph(feedback_text, styles['Normal']),\n",
    "        PageBreak(),\n",
    "        Paragraph('Radar Chart', styles['Heading2']),\n",
    "        radar_chart_img,\n",
    "    ]\n",
    "    document.build(elements)"
   ],
   "metadata": {
    "collapsed": false,
    "ExecuteTime": {
     "end_time": "2024-08-28T12:56:07.867421Z",
     "start_time": "2024-08-28T12:56:07.849813Z"
    }
   },
   "id": "daa829dbaaa5eb94",
   "execution_count": 153
  },
  {
   "cell_type": "code",
   "outputs": [],
   "source": [
    "for index, row in df.iterrows():\n",
    "    student_name = f\"Student#{index + 1}\"\n",
    "    generate_pdf_report(row, student_name)"
   ],
   "metadata": {
    "collapsed": false,
    "ExecuteTime": {
     "end_time": "2024-08-28T12:56:11.144656Z",
     "start_time": "2024-08-28T12:56:08.484569Z"
    }
   },
   "id": "dfd168295756781f",
   "execution_count": 154
  }
 ],
 "metadata": {
  "kernelspec": {
   "display_name": "Python 3",
   "language": "python",
   "name": "python3"
  },
  "language_info": {
   "codemirror_mode": {
    "name": "ipython",
    "version": 2
   },
   "file_extension": ".py",
   "mimetype": "text/x-python",
   "name": "python",
   "nbconvert_exporter": "python",
   "pygments_lexer": "ipython2",
   "version": "2.7.6"
  }
 },
 "nbformat": 4,
 "nbformat_minor": 5
}
